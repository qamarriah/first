{
 "cells": [
  {
   "cell_type": "code",
   "execution_count": 2,
   "metadata": {},
   "outputs": [
    {
     "name": "stdout",
     "output_type": "stream",
     "text": [
      "Hello World\n"
     ]
    }
   ],
   "source": [
    "print (\"Hello World\")"
   ]
  },
  {
   "cell_type": "code",
   "execution_count": null,
   "metadata": {},
   "outputs": [],
   "source": []
  },
  {
   "cell_type": "code",
   "execution_count": 11,
   "metadata": {},
   "outputs": [
    {
     "name": "stdout",
     "output_type": "stream",
     "text": [
      "print Five is greater that two!\n"
     ]
    }
   ],
   "source": [
    "#use tab to make space\n",
    "if  5>2:\n",
    "    print(\"print Five is greater that two!\")"
   ]
  },
  {
   "cell_type": "code",
   "execution_count": 5,
   "metadata": {},
   "outputs": [
    {
     "name": "stdout",
     "output_type": "stream",
     "text": [
      "<class 'int'>\n",
      "<class 'str'>\n",
      "<class 'float'>\n",
      "<class 'float'>\n",
      "1.0\n",
      "2\n",
      "(1+0j)\n",
      "<class 'float'>\n",
      "<class 'int'>\n",
      "<class 'complex'>\n"
     ]
    }
   ],
   "source": [
    "\n",
    "X=4\n",
    "Y='Shahid'\n",
    "Z=5.987\n",
    "\n",
    "print (type (X))\n",
    "print (type (Y))\n",
    "print (type (Z))\n",
    "\n",
    "a=float(X)\n",
    "print (type(a))\n",
    "#assign variables\n",
    "x=1 #int\n",
    "y=2.8#float\n",
    "z=1j#complex\n",
    "\n",
    "#convert the variable to different data types\n",
    "a=float(x)\n",
    "b=int(y)\n",
    "c=complex(x)\n",
    "\n",
    "#print results\n",
    "print (a)\n",
    "print (b)\n",
    "print (c)\n",
    "\n",
    "\n",
    "print (type(a))\n",
    "print (type(b))\n",
    "print (type(c))\n",
    "\n",
    "\n"
   ]
  },
  {
   "cell_type": "code",
   "execution_count": 10,
   "metadata": {},
   "outputs": [
    {
     "name": "stdout",
     "output_type": "stream",
     "text": [
      "11\n",
      "14\n"
     ]
    }
   ],
   "source": [
    "a='hello world'\n",
    "print(len(a))\n",
    "\n",
    "name= 'Qamar, Hussein'\n",
    "print(len(name))"
   ]
  },
  {
   "cell_type": "code",
   "execution_count": 18,
   "metadata": {},
   "outputs": [
    {
     "name": "stdout",
     "output_type": "stream",
     "text": [
      "he\n",
      "HELLO WORLD\n",
      "jello world\n"
     ]
    }
   ],
   "source": [
    "#its important to note the index of the first letter is 0 and not 1\n",
    "#:2- until 2\n",
    "#2: - 2 and afterwards\n",
    "b='hello world'\n",
    "s=b[0:2]\n",
    "print(s)\n",
    "\n",
    "#converting to upper and lowercases\n",
    "a='hello world'\n",
    "B=a.upper()\n",
    "print(B)\n",
    "\n",
    "c=a.replace ('h',('j'))\n",
    "print (c)"
   ]
  },
  {
   "cell_type": "code",
   "execution_count": 23,
   "metadata": {},
   "outputs": [
    {
     "name": "stdout",
     "output_type": "stream",
     "text": [
      "my name is john and i am 36 \n",
      "i want 3 pieces of item 567 for 49.95 dollars\n"
     ]
    }
   ],
   "source": [
    "#string concatenation\n",
    "w='hello'\n",
    "s='world'\n",
    "\n",
    "t=w+s\n",
    "\n",
    "#you cannot add different data types e.g string + integer instead use the format method\n",
    "age =36\n",
    "txt='my name is john and i am {} '\n",
    "D=txt.format(age)\n",
    "print(D)\n",
    "\n",
    "quantity=3\n",
    "itemno=567\n",
    "price=49.95\n",
    "myorder=\"i want {} pieces of item {} for {} dollars\"\n",
    "print (myorder.format(quantity,itemno,price))\n"
   ]
  },
  {
   "cell_type": "code",
   "execution_count": 3,
   "metadata": {},
   "outputs": [
    {
     "name": "stdout",
     "output_type": "stream",
     "text": [
      "Select operation:\n",
      "1. Add\n",
      "2. Subtract\n",
      "3. Multiply\n",
      "4. Divide\n",
      "2.0 * 4.0 = 8.0\n"
     ]
    }
   ],
   "source": [
    "# Simple Calculator in Python\n",
    "\n",
    "# Define a function to add two numbers\n",
    "def add(x, y):\n",
    "    return x + y\n",
    "\n",
    "# Define a function to subtract the second number from the first\n",
    "def subtract(x, y):\n",
    "    return x - y\n",
    "\n",
    "# Define a function to multiply two numbers\n",
    "def multiply(x, y):\n",
    "    return x * y\n",
    "\n",
    "# Define a function to divide the first number by the second and check to prevent division by zero, which would cause an error\n",
    "def divide(x, y):\n",
    "    if y == 0:\n",
    "        return \"Error! Division by zero.\"\n",
    "    else:\n",
    "        return x / y\n",
    "\n",
    "# Main function to run the calculator\n",
    "def calculator():\n",
    "    # Print the available operations\n",
    "    print(\"Welcome to the Calculator Application!\")\n",
    "    print(\"Select operation:\")\n",
    "    print(\"1. Add\")\n",
    "    print(\"2. Subtract\")\n",
    "    print(\"3. Multiply\")\n",
    "    print(\"4. Divide\")\n",
    "\n",
    "    # Ask the user to choose an operation\n",
    "    choice = input(\"Enter choice (1/2/3/4): \")\n",
    "\n",
    "    # Check if the user's choice is valid (1, 2, 3, or 4)\n",
    "    if choice in ['1', '2', '3', '4']:\n",
    "        # Prompt the user to enter the first number\n",
    "        #Additionally the input is a string hence the float(input) is used to convert to float\n",
    "        num1 = float(input(\"Enter first number: \"))\n",
    "        # Prompt the user to enter the second number\n",
    "        num2 = float(input(\"Enter second number: \"))\n",
    "\n",
    "        # Perform the corresponding operation based on the user's choice\n",
    "        if choice == '1':\n",
    "            # Call the add function and print the result\n",
    "            print(f\"{num1} + {num2} = {add(num1, num2)}\")\n",
    "\n",
    "        elif choice == '2':\n",
    "            # Call the subtract function and print the result\n",
    "            print(f\"{num1} - {num2} = {subtract(num1, num2)}\")\n",
    "\n",
    "        elif choice == '3':\n",
    "            # Call the multiply function and print the result\n",
    "            print(f\"{num1} * {num2} = {multiply(num1, num2)}\")\n",
    "\n",
    "        elif choice == '4':\n",
    "            # Call the divide function and print the result\n",
    "            print(f\"{num1} / {num2} = {divide(num1, num2)}\")\n",
    "    else:\n",
    "        # Print an error message if the user enters an invalid choice\n",
    "        print(\"Invalid Input\")\n",
    "\n",
    "\n",
    "\n",
    "# Run the calculator function to start the program\n",
    "calculator()\n",
    "\n"
   ]
  },
  {
   "cell_type": "code",
   "execution_count": null,
   "metadata": {},
   "outputs": [],
   "source": [
    "1"
   ]
  },
  {
   "cell_type": "code",
   "execution_count": 14,
   "metadata": {},
   "outputs": [
    {
     "name": "stdout",
     "output_type": "stream",
     "text": [
      "1\n",
      "2\n",
      "3\n",
      "4\n",
      "5\n",
      "6\n",
      "7\n",
      "[1, 2, 3, 4, 5, 6]\n",
      "[1, 2, 3, 4, 5, 6]\n",
      "[3, 4, 5, 6, 7]\n",
      "[1, 2, 3, 4, 5, 6]\n",
      "[7]\n"
     ]
    }
   ],
   "source": [
    "list=[1,2,3,4,5,6,7]\n",
    "\n",
    "print(list[0])\n",
    "print(list[1])\n",
    "print(list[2])\n",
    "print(list[3])\n",
    "print(list[4])\n",
    "print(list[5])\n",
    "print(list[6])\n",
    "\n",
    "\n",
    "#slicing the elements\n",
    "print(list[0:6])\n",
    "print(list[:6])\n",
    "print(list[-5:])\n",
    "print(list[:-1])\n",
    "print(list[-1:])\n",
    "\n"
   ]
  },
  {
   "cell_type": "code",
   "execution_count": 20,
   "metadata": {},
   "outputs": [
    {
     "name": "stdout",
     "output_type": "stream",
     "text": [
      "[1, 89, 78, 4, 5, 6, 25]\n"
     ]
    }
   ],
   "source": [
    "list=[1,2,3,4,5,6,7]\n",
    "\n",
    "#list[2] =10\n",
    "list[1:3] =(89,78)\n",
    "list[-1]=25\n",
    "print(list)\n",
    "\n",
    "\n"
   ]
  },
  {
   "cell_type": "code",
   "execution_count": 33,
   "metadata": {},
   "outputs": [
    {
     "name": "stdout",
     "output_type": "stream",
     "text": [
      "['Hello', 'Qamar', 'Hussein', 'Abdiaziz']\n",
      "['Abdiaziz', 'Hello', 'Qamar', 'Hussein']\n",
      "['Hello', 'Qamar', 'Hussein']\n",
      "['Hello', 'Qamar']\n",
      "['Hello', 'Qamar', 'Abdiaziz']\n"
     ]
    }
   ],
   "source": [
    "name= ['Hello','Qamar', 'Hussein']\n",
    "name.append('Abdiaziz')\n",
    "print(name)\n",
    "\n",
    "#insert\n",
    "name= ['Hello','Qamar', 'Hussein']\n",
    "name.insert(0,'Abdiaziz')\n",
    "print(name)\n",
    "\n",
    "#remove method\n",
    "name.remove(\"Abdiaziz\")\n",
    "print(name)\n",
    "\n",
    "#pop if you dont want to specify index it pops the last index\n",
    "name.pop()\n",
    "print(name)\n",
    "\n",
    "#delete if you dont specify it deletes the entire thing\n",
    "name = ['Hello', 'Qamar', 'Hussein', 'Abdiaziz']\n",
    "del name[2]  # Removes the element at index 2 ('Hussein')\n",
    "print(name)"
   ]
  },
  {
   "cell_type": "code",
   "execution_count": 102,
   "metadata": {},
   "outputs": [
    {
     "name": "stdout",
     "output_type": "stream",
     "text": [
      "['Sugar', 'Salt', 'Flour']\n",
      "['Rice', 'Table']\n",
      "['Table', 'Spices', 'Salt']\n",
      "['Table', 'Rice', 'Spices', 'Flour', 'Salt', 'Sugar']\n",
      "['Sugar', 'Salt', 'Flour', 'Spices', 'Rice', 'Table']\n",
      "['Sugar', 'Salt', 'Oats', 'Herbs', 'Rice', 'Table']\n",
      "['Oats', 'Herbs', 'Rice', 'Table']\n",
      "['Salt', 'Herbs', 'Table']\n",
      "['Rice', 'Herbs', 'Oats']\n"
     ]
    }
   ],
   "source": [
    "items=['Sugar','Salt','Flour','Spices','Rice','Table']\n",
    "print(items[0:3])#the firstthree elements\n",
    "print(items[-2:])#thelast two elements\n",
    "print(items[::-2])#skipping one item\n",
    "print(items[::-1])#the items in reverse\n",
    "print(items[2-2:])#excluding the first two and the last two\n",
    "items[2:4] = ['Oats', 'Herbs']# Replace 'Flour' and 'Spices' with 'Oats' and 'Herbs'\n",
    "print(items)\n",
    "print(items[2:])#removing the first elements\n",
    "print( items[1::2])\n",
    "print(items[-2:1:-1])"
   ]
  },
  {
   "cell_type": "code",
   "execution_count": 107,
   "metadata": {},
   "outputs": [
    {
     "name": "stdout",
     "output_type": "stream",
     "text": [
      "('apple', 'banana', 'cherry', 'orange', 'kiwi', 'melon', 'mango')\n",
      "7\n",
      "mango\n",
      "('cherry', 'orange', 'kiwi', 'melon', 'mango')\n"
     ]
    }
   ],
   "source": [
    "thistupple=('apple','banana','cherry','orange','kiwi','melon','mango')\n",
    "print(thistupple)\n",
    "print(len(thistupple))\n",
    "#when a tupple has one element then add a coma to differentiate from alist\n",
    "print(thistupple[-1])\n",
    "print(thistupple[2:])\n",
    "\n",
    "\n",
    "\n",
    "\n"
   ]
  },
  {
   "cell_type": "code",
   "execution_count": 2,
   "metadata": {},
   "outputs": [
    {
     "name": "stdout",
     "output_type": "stream",
     "text": [
      "('apple', 'tomato', 'cherry')\n"
     ]
    }
   ],
   "source": [
    "\n",
    "\n",
    "x = ('apple', 'banana', 'cherry')\n",
    "y = list(x)  # Convert the tuple to a list\n",
    "y[1] ='tomato'  # Modify the second element\n",
    "x = tuple(y)  # Convert the list back to a tuple\n",
    "print(x)  # Output: ('apple', 'tomato', 'cherry')\n",
    "\n",
    "\n",
    "\n",
    "\n"
   ]
  },
  {
   "cell_type": "code",
   "execution_count": 1,
   "metadata": {},
   "outputs": [
    {
     "name": "stdout",
     "output_type": "stream",
     "text": [
      "('apple', 'kiwi', 'cherry')\n"
     ]
    }
   ],
   "source": [
    "x =('apple','banana','cherry')\n",
    "y=list(x)\n",
    "y[1]='kiwi'\n",
    "x=tuple(y)\n",
    "print(x)"
   ]
  },
  {
   "cell_type": "code",
   "execution_count": null,
   "metadata": {},
   "outputs": [],
   "source": []
  },
  {
   "cell_type": "code",
   "execution_count": 123,
   "metadata": {},
   "outputs": [
    {
     "name": "stdout",
     "output_type": "stream",
     "text": [
      "('apple', 'banana', 'cherry', 'orange')\n"
     ]
    }
   ],
   "source": [
    "thistupple=('apple','banana','cherry')\n",
    "y=('orange', )\n",
    "thistupple+=y\n",
    "print(thistupple)"
   ]
  },
  {
   "cell_type": "code",
   "execution_count": 12,
   "metadata": {},
   "outputs": [
    {
     "name": "stdout",
     "output_type": "stream",
     "text": [
      "{'apple', 'cherry', 'banana'}\n",
      "{'apple', 'orange', 'cherry', 'banana'}\n",
      "{'orange', 'cherry', 'banana', 'papaya', 'pineapple', 'apple', 'mango'}\n",
      "{True, 34, 40, 'male', 'abc'}\n",
      "apple\n",
      "cherry\n",
      "banana\n"
     ]
    }
   ],
   "source": [
    "thisset = {'apple','banana','cherry','apple'}\n",
    "print(thisset)\n",
    "\n",
    "thisset.add('orange')\n",
    "print(thisset)\n",
    "\n",
    "#adding a set to a set\n",
    "tropical={'pineapple','mango','papaya'}\n",
    "thisset.update(tropical)\n",
    "print(thisset)\n",
    "\n",
    "set1={\"abc\",34,True,40,\"male\"}\n",
    "print(set1)\n",
    "#you cant use indexing to access elements instead use the for loop\n",
    "thisset1 ={'apple','banana','cherry'}\n",
    "for x in thisset1:\n",
    "    print(x)"
   ]
  },
  {
   "cell_type": "code",
   "execution_count": 16,
   "metadata": {},
   "outputs": [
    {
     "name": "stdout",
     "output_type": "stream",
     "text": [
      "3\n",
      "dict_keys(['brand', 'model', 'year'])\n",
      "dict_values(['mercedes', 'mustang', 1965])\n",
      "{'brand': 'mercedes', 'model': 'mustang', 'year': 2000}\n",
      "{'brand': 'mercedes', 'model': 'mustang'}\n",
      "{'brand': 'mercedes', 'model': 'mustang'}\n"
     ]
    }
   ],
   "source": [
    "#dictionaries\n",
    "car = {\n",
    "    'brand' : 'ford',\n",
    "    'model' : 'mustang',\n",
    "    'year' : 1965,\n",
    "\n",
    "\n",
    "}\n",
    "#print(car)\n",
    "\n",
    "s=len(car)\n",
    "print(s)\n",
    "\n",
    "x=car.keys()\n",
    "print(x)\n",
    "\n",
    "y=car.values()\n",
    "\n",
    "car['brand'] = 'mercedes'\n",
    "print(y)\n",
    "\n",
    "car.update({'year': 2000})\n",
    "print(car)\n",
    "\n",
    "#pops the last item\n",
    "car.popitem()\n",
    "print(car)\n",
    "\n",
    "#deletes rids of the specified keyname if not specified then the whole thing\n",
    "del car['model']\n",
    "print(car)\n",
    "\n",
    "car2 =dict(car)\n",
    "print(car)\n",
    "\n",
    "\n",
    "\n",
    "\n",
    "\n",
    "\n",
    "\n",
    "\n"
   ]
  },
  {
   "cell_type": "code",
   "execution_count": 13,
   "metadata": {},
   "outputs": [
    {
     "name": "stdout",
     "output_type": "stream",
     "text": [
      "{'tomatoes': 4, 'milk': 2, 'spice': 5, 'peppers': 7, 'eggs': 4}\n",
      "{'tomatoes': 4, 'milk': 2, 'spice': 5, 'peppers': 7, 'eggs': 4, 'drinks': 10}\n",
      "{'tomatoes': 4, 'milk': 2, 'spice': 5, 'peppers': 7, 'eggs': 6, 'drinks': 10}\n",
      "{'tomatoes': 4, 'spice': 5, 'peppers': 7, 'eggs': 6, 'drinks': 10}\n"
     ]
    }
   ],
   "source": [
    "Items= {\n",
    "'tomatoes': 4,\n",
    "'milk' : 2,\n",
    "'spice' : 5,\n",
    "'peppers': 7,\n",
    "'eggs': 4\n",
    "\n",
    "}\n",
    "print(Items)\n",
    "\n",
    "#adding a new item\n",
    "Items['drinks'] =10\n",
    "print(Items)\n",
    "\n",
    "#updating items\n",
    "Items.update({'eggs': 6})\n",
    "#Items['eggs'] = 6\n",
    "print(Items)\n",
    "\n",
    "#deleting items\n",
    "del Items['milk']\n",
    "print(Items)"
   ]
  },
  {
   "cell_type": "markdown",
   "metadata": {},
   "source": []
  },
  {
   "cell_type": "code",
   "execution_count": 2,
   "metadata": {},
   "outputs": [
    {
     "name": "stdout",
     "output_type": "stream",
     "text": [
      "b is greater than a\n",
      "B\n",
      "=\n",
      "both conditions are True\n",
      "A atleast one of the conditons is True\n",
      "and also above 20!\n",
      "Positive number\n",
      "success\n"
     ]
    }
   ],
   "source": [
    "#if else statements\n",
    "\n",
    "a=33\n",
    "b=200\n",
    "if b >a:\n",
    "    print ('b is greater than a')\n",
    "elif a==b:\n",
    "    print('a and b are equal')\n",
    "else:\n",
    "    print ('a is greater than b')\n",
    "\n",
    "    #shorten the code to one line\n",
    "\n",
    "if a>b: print('a is greater than b')\n",
    "\n",
    "a=2\n",
    "b=300\n",
    "print('A') if a>b else print ('B')\n",
    "\n",
    "a=330\n",
    "b=330\n",
    "print ('A') if a>b else print('=') if a==b else print('B')\n",
    "\n",
    "#and along with the if statement\n",
    "a=200\n",
    "b=33\n",
    "c=500\n",
    "if a>b and c>a:\n",
    "    print ('both conditions are True')\n",
    "\n",
    "a=200\n",
    "b=33\n",
    "c=500\n",
    "if a>b or a>c:\n",
    "    print('A atleast one of the conditons is True')\n",
    "\n",
    "#NESTED IF\n",
    "x=41\n",
    "if x>10:\n",
    "    print ('and also above 20!')\n",
    "else:\n",
    "    print('but not above 20.')\n",
    "\n",
    "#check if number is positive\n",
    "num =float(input('Enter a number:'))\n",
    "if num >=0:\n",
    "    if num==0:\n",
    "        print ('Zero')\n",
    "    else:\n",
    "        print('Positive number')\n",
    "else:\n",
    "    print('Negative number')\n",
    "\n",
    "#pass statements cannot be empty so use pass to be able to use itempty\n",
    "list= [4,3,6,9,9]\n",
    "if list[0]>list[1]:\n",
    "    print('success')\n",
    "else:\n",
    "    print('hello')\n",
    "\n",
    "\n"
   ]
  },
  {
   "cell_type": "code",
   "execution_count": 7,
   "metadata": {},
   "outputs": [
    {
     "name": "stdout",
     "output_type": "stream",
     "text": [
      "1\n",
      "2\n",
      "3\n"
     ]
    }
   ],
   "source": [
    "i=1\n",
    "while i <6:\n",
    "    print (i)\n",
    "    if i ==3:\n",
    "        break\n",
    "    i+=1\n",
    "\n",
    "\n"
   ]
  },
  {
   "cell_type": "code",
   "execution_count": null,
   "metadata": {},
   "outputs": [],
   "source": [
    "i=1\n",
    "while i <6:\n",
    "    print (i)\n",
    "    if i ==3:\n",
    "        break\n",
    "    i+=1"
   ]
  },
  {
   "cell_type": "code",
   "execution_count": 12,
   "metadata": {},
   "outputs": [
    {
     "name": "stdout",
     "output_type": "stream",
     "text": [
      "2\n",
      "4\n",
      "5\n",
      "6\n"
     ]
    }
   ],
   "source": [
    "i = 1\n",
    "while i < 6:\n",
    "    i += 1\n",
    "\n",
    "    if i == 3:\n",
    "        continue\n",
    "\n",
    "    print(i)\n",
    "\n",
    "\n",
    "\n"
   ]
  },
  {
   "cell_type": "code",
   "execution_count": 13,
   "metadata": {},
   "outputs": [
    {
     "name": "stdout",
     "output_type": "stream",
     "text": [
      "1\n",
      "2\n",
      "3\n",
      "4\n",
      "5\n",
      "i is no longer 6\n"
     ]
    }
   ],
   "source": [
    "#loop in if else statements\n",
    "i=1\n",
    "while i <6:\n",
    "    print (i)\n",
    "    i+=1\n",
    "\n",
    "else:\n",
    "    print('i is no longer 6' )"
   ]
  },
  {
   "cell_type": "code",
   "execution_count": 20,
   "metadata": {},
   "outputs": [
    {
     "name": "stdout",
     "output_type": "stream",
     "text": [
      "0\n",
      "1\n",
      "2\n",
      "3\n",
      "4\n",
      "5\n"
     ]
    }
   ],
   "source": [
    "for x in range(6):\n",
    "    print (x)\n",
    "\n"
   ]
  },
  {
   "cell_type": "code",
   "execution_count": 21,
   "metadata": {},
   "outputs": [
    {
     "name": "stdout",
     "output_type": "stream",
     "text": [
      "2\n",
      "3\n",
      "4\n",
      "5\n"
     ]
    }
   ],
   "source": [
    "for x in range (2,6):\n",
    "        print (x)"
   ]
  },
  {
   "cell_type": "code",
   "execution_count": 22,
   "metadata": {},
   "outputs": [
    {
     "name": "stdout",
     "output_type": "stream",
     "text": [
      "2\n",
      "5\n",
      "8\n",
      "11\n",
      "14\n",
      "17\n",
      "20\n",
      "23\n",
      "26\n",
      "29\n"
     ]
    }
   ],
   "source": [
    "for x in range (2,30,3):\n",
    "        print (x)"
   ]
  },
  {
   "cell_type": "code",
   "execution_count": 23,
   "metadata": {},
   "outputs": [
    {
     "name": "stdout",
     "output_type": "stream",
     "text": [
      "red apple\n",
      "red banana\n",
      "red cherry\n",
      "big apple\n",
      "big banana\n",
      "big cherry\n",
      "tasty apple\n",
      "tasty banana\n",
      "tasty cherry\n"
     ]
    }
   ],
   "source": [
    "adj = ['red','big','tasty']\n",
    "fruits =['apple','banana','cherry']\n",
    "\n",
    "for x in adj:\n",
    "    for y in fruits:\n",
    "        print (x,y)\n",
    "\n"
   ]
  },
  {
   "cell_type": "code",
   "execution_count": 27,
   "metadata": {},
   "outputs": [
    {
     "name": "stdout",
     "output_type": "stream",
     "text": [
      "hello world\n"
     ]
    }
   ],
   "source": [
    "#functions\n",
    "def fun():\n",
    "    print ('hello world')\n",
    "\n",
    "\n",
    "fun()"
   ]
  },
  {
   "cell_type": "code",
   "execution_count": 33,
   "metadata": {},
   "outputs": [
    {
     "name": "stdout",
     "output_type": "stream",
     "text": [
      "even\n"
     ]
    }
   ],
   "source": [
    "def even_odd(x=10):\n",
    "    if (x%2==0):\n",
    "        print ('even')\n",
    "    else:\n",
    "        print('odd')\n",
    "\n",
    "even_odd()"
   ]
  },
  {
   "cell_type": "code",
   "execution_count": 34,
   "metadata": {},
   "outputs": [
    {
     "name": "stdout",
     "output_type": "stream",
     "text": [
      "4\n",
      "16\n"
     ]
    }
   ],
   "source": [
    "def square_value(num):\n",
    "    \"\"\"\"this function returns square value of entered number \"\"\"\"Application Data\"\n",
    "    return num**2\n",
    "\n",
    "print(square_value(2))\n",
    "print(square_value(-4))"
   ]
  },
  {
   "cell_type": "code",
   "execution_count": 35,
   "metadata": {},
   "outputs": [
    {
     "name": "stdout",
     "output_type": "stream",
     "text": [
      "apple\n",
      "banana\n",
      "cherry\n"
     ]
    }
   ],
   "source": [
    "def my_function(food):\n",
    "    for x in food:\n",
    "        print (x)\n",
    "\n",
    "fruits =['apple','banana','cherry']\n",
    "my_function(fruits)"
   ]
  },
  {
   "cell_type": "code",
   "execution_count": 1,
   "metadata": {},
   "outputs": [
    {
     "name": "stdout",
     "output_type": "stream",
     "text": [
      "7\n",
      "10\n"
     ]
    }
   ],
   "source": [
    "def max_of_three(a, b, c):\n",
    "    # Find the maximum by comparing each variable\n",
    "    if a >= b and a >= c:\n",
    "        return a\n",
    "    elif b >= a and b >= c:\n",
    "        return b\n",
    "    else:\n",
    "        return c\n",
    "\n",
    "# Test cases\n",
    "print(max_of_three(3, 7, 5))  # Expected output: 7\n",
    "print(max_of_three(10, 10, 5))  # Expected output: 10\n"
   ]
  },
  {
   "cell_type": "code",
   "execution_count": 2,
   "metadata": {},
   "outputs": [
    {
     "name": "stdout",
     "output_type": "stream",
     "text": [
      "7\n",
      "10\n"
     ]
    }
   ],
   "source": [
    "def max_of_three(a, b, c):\n",
    "    return max(a, b, c)\n",
    "\n",
    "# Test cases\n",
    "print(max_of_three(3, 7, 5))  # Expected output: 7\n",
    "print(max_of_three(10, 10, 5))  # Expected output: 10\n"
   ]
  },
  {
   "cell_type": "code",
   "execution_count": 5,
   "metadata": {},
   "outputs": [
    {
     "name": "stdout",
     "output_type": "stream",
     "text": [
      "Test case 1 passed: is_palindrome('racecar') returned True\n",
      "Test case 2 passed: is_palindrome('hello') returned False\n"
     ]
    }
   ],
   "source": [
    "def is_palindrome(s):\n",
    "    # Check if the string reads the word forward as backwards\n",
    "    return s == s[::-1]\n",
    "    #create a function test\n",
    "def test_is_palindrome():\n",
    "    # Test case 1: Palindrome string\n",
    "    result1 = is_palindrome(\"racecar\")\n",
    "    if result1 == True:\n",
    "        print(\"Test case 1 passed: is_palindrome('racecar') returned True\")\n",
    "    else:\n",
    "        print(\"Test case 1 failed: is_palindrome('racecar') returned\", result1)\n",
    "\n",
    "    # Test case 2: Non-palindrome string\n",
    "    result2 = is_palindrome(\"hello\")\n",
    "    if result2 == False:\n",
    "        print(\"Test case 2 passed: is_palindrome('hello') returned False\")\n",
    "    else:\n",
    "        print(\"Test case 2 failed: is_palindrome('hello') returned\", result2)\n",
    "\n",
    "# Run the test function\n",
    "test_is_palindrome()\n"
   ]
  },
  {
   "cell_type": "code",
   "execution_count": null,
   "metadata": {},
   "outputs": [],
   "source": [
    "def is_prime(n):\n",
    "    if n<2:\n",
    "        return False\n",
    "    else"
   ]
  },
  {
   "cell_type": "code",
   "execution_count": 6,
   "metadata": {},
   "outputs": [
    {
     "name": "stdout",
     "output_type": "stream",
     "text": [
      "2\n"
     ]
    }
   ],
   "source": [
    "def in_min(a,b,c,d):\n",
    "    return min(a,b,c,d)\n",
    "\n",
    "\n",
    "print(min(3,7,2,5))\n"
   ]
  },
  {
   "cell_type": "code",
   "execution_count": 4,
   "metadata": {},
   "outputs": [
    {
     "name": "stdout",
     "output_type": "stream",
     "text": [
      "C:\\Users\\Qamar\\AppData\\Local\\Microsoft\\WindowsApps\\PythonSoftwareFoundation.Python.3.12_qbz5n2kfra8p0\\python.exe\n"
     ]
    }
   ],
   "source": [
    "import sys\n",
    "print(sys.executable)\n"
   ]
  },
  {
   "cell_type": "code",
   "execution_count": 5,
   "metadata": {},
   "outputs": [
    {
     "data": {
      "text/plain": [
       "0    Monika\n",
       "1     Lalit\n",
       "2     Purva\n",
       "dtype: object"
      ]
     },
     "execution_count": 5,
     "metadata": {},
     "output_type": "execute_result"
    }
   ],
   "source": [
    "import pandas as pd\n",
    "names = ['Monika', 'Lalit', 'Purva']\n",
    "pd.Series(names)"
   ]
  },
  {
   "cell_type": "code",
   "execution_count": null,
   "metadata": {},
   "outputs": [],
   "source": [
    "books = {'science '}"
   ]
  },
  {
   "cell_type": "code",
   "execution_count": 6,
   "metadata": {},
   "outputs": [
    {
     "name": "stdout",
     "output_type": "stream",
     "text": [
      "Student_1      Alice\n",
      "Student_2        Bob\n",
      "Student_3    Charlie\n",
      "dtype: object\n"
     ]
    }
   ],
   "source": [
    "import pandas as pd\n",
    "\n",
    "names = ['Alice', 'Bob', 'Charlie']\n",
    "series = pd.Series(names, index=['Student_1', 'Student_2', 'Student_3'])\n",
    "print(series)\n"
   ]
  },
  {
   "cell_type": "code",
   "execution_count": null,
   "metadata": {},
   "outputs": [],
   "source": [
    "import pandas as pd\n",
    "import numpy as np\n",
    "\n",
    "# Correct function name: pd.date_range\n",
    "dates = pd.date_range('20130101', periods=6)\n",
    "print(dates)\n",
    "\n",
    "DatetimeIndex(['2013-01-01', '2013-01-02', '2013-01-03', '2013-01-04',\n",
    "               '2013-01-05', '2013-01-06'],\n",
    "              dtype='datetime64[ns]', freq='D')\n"
   ]
  },
  {
   "cell_type": "code",
   "execution_count": 15,
   "metadata": {},
   "outputs": [
    {
     "name": "stdout",
     "output_type": "stream",
     "text": [
      "     A          B    C  D      E    F\n",
      "0  1.0 2013-01-02  1.0  3   test  foo\n",
      "1  1.0 2013-01-02  1.0  3  train  foo\n",
      "2  1.0 2013-01-02  1.0  3   test  foo\n",
      "3  1.0 2013-01-02  1.0  3  train  foo\n"
     ]
    }
   ],
   "source": [
    "import pandas as pd\n",
    "import numpy as np\n",
    "df2=pd.DataFrame ({\n",
    "                 'A': 1.,\n",
    "                 'B' : pd.Timestamp('20130102'),\n",
    "                 'C' : pd.Series(1,index=list(range(4)),dtype='float32'),\n",
    "                 'D' : np.array([3]* 4,dtype='int32'),\n",
    "                 'E' : pd.Categorical(['test','train','test','train']),\n",
    "                 'F' : 'foo'})\n",
    "\n",
    "print (df2)"
   ]
  },
  {
   "cell_type": "code",
   "execution_count": null,
   "metadata": {},
   "outputs": [],
   "source": []
  },
  {
   "cell_type": "code",
   "execution_count": 2,
   "metadata": {},
   "outputs": [
    {
     "data": {
      "image/png": "[encoded data removed]",
      "text/plain": [
       "<Figure size 640x480 with 1 Axes>"
      ]
     },
     "metadata": {},
     "output_type": "display_data"
    }
   ],
   "source": [
    "#importing matplotlib module\n",
    "#x-axis values\n",
    "\n",
    "from matplotlib import pyplot as plt\n",
    "x=[5,2,9,4,7]\n",
    "\n",
    "#y axis\n",
    "y=[10,5,8,4,2]\n",
    "\n",
    "#function to plot\n",
    "plt.plot(x,y)\n",
    "\n",
    "#function to show the plot\n",
    "plt.show()\n",
    "\n"
   ]
  },
  {
   "cell_type": "code",
   "execution_count": 3,
   "metadata": {},
   "outputs": [
    {
     "data": {
      "image/png": "[encoded data removed]",
      "text/plain": [
       "<Figure size 640x480 with 1 Axes>"
      ]
     },
     "metadata": {},
     "output_type": "display_data"
    }
   ],
   "source": [
    "#importing matplotlib module\n",
    "#x-axis values\n",
    "\n",
    "from matplotlib import pyplot as plt\n",
    "x=[5,2,9,4,7]\n",
    "\n",
    "#y axis\n",
    "y=[10,5,8,4,2]\n",
    "\n",
    "#function to plot\n",
    "plt.bar(x,y)\n",
    "\n",
    "#function to show the plot\n",
    "plt.show()"
   ]
  },
  {
   "cell_type": "code",
   "execution_count": 6,
   "metadata": {},
   "outputs": [
    {
     "data": {
      "image/png": "[encoded data removed]",
      "text/plain": [
       "<Figure size 640x480 with 1 Axes>"
      ]
     },
     "metadata": {},
     "output_type": "display_data"
    }
   ],
   "source": [
    "#importing matplotlib module\n",
    "#x-axis values\n",
    "\n",
    "from matplotlib import pyplot as plt\n",
    "#x=[5,2,9,4,7]\n",
    "\n",
    "#y axis\n",
    "y=[10,5,8,4,2]\n",
    "\n",
    "#function to plot\n",
    "plt.hist(y)\n",
    "\n",
    "#function to show the plot\n",
    "plt.show()"
   ]
  },
  {
   "cell_type": "code",
   "execution_count": 7,
   "metadata": {},
   "outputs": [
    {
     "data": {
      "image/png": "[encoded data removed]",
      "text/plain": [
       "<Figure size 640x480 with 1 Axes>"
      ]
     },
     "metadata": {},
     "output_type": "display_data"
    }
   ],
   "source": [
    "#importing matplotlib module\n",
    "#x-axis values\n",
    "\n",
    "from matplotlib import pyplot as plt\n",
    "x=[5,2,9,4,7]\n",
    "\n",
    "#y axis\n",
    "y=[10,5,8,4,2]\n",
    "\n",
    "#function to plot\n",
    "plt.scatter(x,y)\n",
    "\n",
    "#function to show the plot\n",
    "plt.show()"
   ]
  },
  {
   "cell_type": "code",
   "execution_count": 11,
   "metadata": {},
   "outputs": [
    {
     "data": {
      "text/plain": [
       "Text(0, 0.5, 'Y line')"
      ]
     },
     "execution_count": 11,
     "metadata": {},
     "output_type": "execute_result"
    },
    {
     "data": {
      "image/png": "[encoded data removed]",
      "text/plain": [
       "<Figure size 640x480 with 1 Axes>"
      ]
     },
     "metadata": {},
     "output_type": "display_data"
    }
   ],
   "source": [
    "import numpy as np\n",
    "x= np.linspace(0,10,20)\n",
    "y=x**2\n",
    "\n",
    "plt.plot(x,y)\n",
    "plt.title('our first plot')\n",
    "plt.xlabel ('X line')\n",
    "plt.ylabel ('Y line')\n"
   ]
  },
  {
   "cell_type": "code",
   "execution_count": 12,
   "metadata": {},
   "outputs": [
    {
     "data": {
      "text/plain": [
       "[<matplotlib.lines.Line2D at 0x225f5225ca0>]"
      ]
     },
     "execution_count": 12,
     "metadata": {},
     "output_type": "execute_result"
    },
    {
     "data": {
      "image/png": "[encoded data removed]",
      "text/plain": [
       "<Figure size 640x480 with 2 Axes>"
      ]
     },
     "metadata": {},
     "output_type": "display_data"
    }
   ],
   "source": [
    "plt.subplot(1,2,1)\n",
    "plt.plot(x,y,'red')\n",
    "\n",
    "plt.subplot(1,2,2)\n",
    "plt.plot(x,y,'green')\n",
    "\n",
    "\n",
    "\n"
   ]
  },
  {
   "cell_type": "code",
   "execution_count": 15,
   "metadata": {},
   "outputs": [
    {
     "data": {
      "image/png": "[encoded data removed]",
      "text/plain": [
       "<Figure size 640x480 with 2 Axes>"
      ]
     },
     "metadata": {},
     "output_type": "display_data"
    }
   ],
   "source": [
    "fig=plt.figure()\n",
    "\n",
    "axes1=fig.add_axes([0.1,0.1,0.0,0.8])\n",
    "axes2=fig.add_axes([0.2,0.5,0.4,0.3])"
   ]
  },
  {
   "cell_type": "code",
   "execution_count": null,
   "metadata": {},
   "outputs": [],
   "source": [
    "fig=plt.figure()\n",
    "\n",
    "axes1=fig.add_axes([0.1,0.1,0.0,0.8])\n",
    "axes2=fig.add_axes([0.2,0.5,0.4,0.3])\n",
    "\n",
    "axes.plot\n"
   ]
  },
  {
   "cell_type": "code",
   "execution_count": 16,
   "metadata": {},
   "outputs": [
    {
     "data": {
      "image/png": "[encoded data removed]",
      "text/plain": [
       "<Figure size 640x480 with 9 Axes>"
      ]
     },
     "metadata": {},
     "output_type": "display_data"
    }
   ],
   "source": [
    "\n",
    "fig, axes = plt.subplots(nrows=3, ncols=3)"
   ]
  },
  {
   "cell_type": "code",
   "execution_count": 18,
   "metadata": {},
   "outputs": [
    {
     "ename": "NameError",
     "evalue": "name 'plot' is not defined",
     "output_type": "error",
     "traceback": [
      "\u001b[1;31m---------------------------------------------------------------------------\u001b[0m",
      "\u001b[1;31mNameError\u001b[0m                                 Traceback (most recent call last)",
      "Cell \u001b[1;32mIn[18], line 2\u001b[0m\n\u001b[0;32m      1\u001b[0m fig, axes \u001b[38;5;241m=\u001b[39m plt\u001b[38;5;241m.\u001b[39msubplots(nrows\u001b[38;5;241m=\u001b[39m\u001b[38;5;241m3\u001b[39m, ncols\u001b[38;5;241m=\u001b[39m\u001b[38;5;241m3\u001b[39m)\n\u001b[1;32m----> 2\u001b[0m ax\u001b[38;5;241m=\u001b[39m(\u001b[38;5;241m0\u001b[39m,\u001b[38;5;241m1\u001b[39m), \u001b[43mplot\u001b[49m(x,y)\n\u001b[0;32m      3\u001b[0m ax\u001b[38;5;241m=\u001b[39m(\u001b[38;5;241m1\u001b[39m,\u001b[38;5;241m2\u001b[39m), plot(y,x)\n\u001b[0;32m      5\u001b[0m plt\u001b[38;5;241m.\u001b[39mtight_layout()\n",
      "\u001b[1;31mNameError\u001b[0m: name 'plot' is not defined"
     ]
    },
    {
     "data": {
      "image/png": "[encoded data removed]",
      "text/plain": [
       "<Figure size 640x480 with 9 Axes>"
      ]
     },
     "metadata": {},
     "output_type": "display_data"
    }
   ],
   "source": [
    "fig, axes = plt.subplots(nrows=3, ncols=3)\n",
    "ax=(0,1), plot(x,y)\n",
    "ax=(1,2), plot(y,x)\n",
    "\n",
    "plt.tight_layout()\n"
   ]
  },
  {
   "cell_type": "code",
   "execution_count": null,
   "metadata": {},
   "outputs": [],
   "source": []
  }
 ],
 "metadata": {
  "kernelspec": {
   "display_name": "Python 3",
   "language": "python",
   "name": "python3"
  },
  "language_info": {
   "codemirror_mode": {
    "name": "ipython",
    "version": 3
   },
   "file_extension": ".py",
   "mimetype": "text/x-python",
   "name": "python",
   "nbconvert_exporter": "python",
   "pygments_lexer": "ipython3",
   "version": "3.12.4"
  }
 },
 "nbformat": 4,
 "nbformat_minor": 2
}
